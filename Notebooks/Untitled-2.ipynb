{
 "cells": [
  {
   "cell_type": "code",
   "execution_count": 10,
   "metadata": {},
   "outputs": [],
   "source": [
    "import pandas as pd\n",
    "import datetime"
   ]
  },
  {
   "cell_type": "code",
   "execution_count": 2,
   "metadata": {},
   "outputs": [],
   "source": [
    "list_dict = [\n",
    "    {\n",
    "        \"id\": 1,\n",
    "        \"sourceAccount\": \"company_x\",\n",
    "        \"targetAccount\": \"my_account\",\n",
    "        \"amount\": 10000,\n",
    "        \"category\": \"salary\",\n",
    "        \"time\": \"2018-02-25T08:00:10.002Z\",\n",
    "  },\n",
    "  {\n",
    "\n",
    "        \"id\": 2,\n",
    "        \"sourceAccount\": \"company_x\",\n",
    "        \"targetAccount\": \"my_account\",\n",
    "        \"amount\": -5000,\n",
    "        \"category\": \"salary\",\n",
    "        \"time\": \"2018-02-25T09:00:30.000Z\",\n",
    "  },\n",
    "    {\n",
    "        \"id\": 3,\n",
    "        \"sourceAccount\": \"company_x\",\n",
    "        \"targetAccount\": \"my_account\",\n",
    "        \"amount\": 10000,\n",
    "        \"category\": \"other\",\n",
    "        \"time\": \"2018-02-25T10:02:00.030Z\",\n",
    "  },\n",
    "  {\n",
    "        \"id\": 4,\n",
    "        \"sourceAccount\": \"company_x\",\n",
    "        \"targetAccount\": \"my_account\",\n",
    "        \"amount\": 3000,\n",
    "        \"category\": \"salary\",\n",
    "        \"time\": \"2018-02-26T08:00:00.000Z\",\n",
    "  },\n",
    "\n",
    "]"
   ]
  },
  {
   "cell_type": "code",
   "execution_count": 37,
   "metadata": {},
   "outputs": [],
   "source": [
    "df = pd.DataFrame(list_dict).set_index('id')\n",
    "df['time'] = pd.to_datetime(df['time'], format='%Y-%m-%dT%H:%M:%S.%fZ')"
   ]
  },
  {
   "cell_type": "code",
   "execution_count": 21,
   "metadata": {},
   "outputs": [
    {
     "data": {
      "text/html": [
       "<div>\n",
       "<style scoped>\n",
       "    .dataframe tbody tr th:only-of-type {\n",
       "        vertical-align: middle;\n",
       "    }\n",
       "\n",
       "    .dataframe tbody tr th {\n",
       "        vertical-align: top;\n",
       "    }\n",
       "\n",
       "    .dataframe thead th {\n",
       "        text-align: right;\n",
       "    }\n",
       "</style>\n",
       "<table border=\"1\" class=\"dataframe\">\n",
       "  <thead>\n",
       "    <tr style=\"text-align: right;\">\n",
       "      <th></th>\n",
       "      <th>sourceAccount</th>\n",
       "      <th>targetAccount</th>\n",
       "      <th>amount</th>\n",
       "      <th>category</th>\n",
       "      <th>time</th>\n",
       "    </tr>\n",
       "    <tr>\n",
       "      <th>id</th>\n",
       "      <th></th>\n",
       "      <th></th>\n",
       "      <th></th>\n",
       "      <th></th>\n",
       "      <th></th>\n",
       "    </tr>\n",
       "  </thead>\n",
       "  <tbody>\n",
       "    <tr>\n",
       "      <th>1</th>\n",
       "      <td>company_x</td>\n",
       "      <td>my_account</td>\n",
       "      <td>10000</td>\n",
       "      <td>salary</td>\n",
       "      <td>2018-02-25 08:00:10.002000+00:00</td>\n",
       "    </tr>\n",
       "    <tr>\n",
       "      <th>2</th>\n",
       "      <td>company_x</td>\n",
       "      <td>my_account</td>\n",
       "      <td>-5000</td>\n",
       "      <td>salary</td>\n",
       "      <td>2018-02-25 09:00:30+00:00</td>\n",
       "    </tr>\n",
       "    <tr>\n",
       "      <th>3</th>\n",
       "      <td>company_x</td>\n",
       "      <td>my_account</td>\n",
       "      <td>10000</td>\n",
       "      <td>other</td>\n",
       "      <td>2018-02-25 10:02:00.030000+00:00</td>\n",
       "    </tr>\n",
       "    <tr>\n",
       "      <th>4</th>\n",
       "      <td>company_x</td>\n",
       "      <td>my_account</td>\n",
       "      <td>3000</td>\n",
       "      <td>salary</td>\n",
       "      <td>2018-02-26 08:00:00+00:00</td>\n",
       "    </tr>\n",
       "  </tbody>\n",
       "</table>\n",
       "</div>"
      ],
      "text/plain": [
       "   sourceAccount targetAccount  amount category  \\\n",
       "id                                                \n",
       "1      company_x    my_account   10000   salary   \n",
       "2      company_x    my_account   -5000   salary   \n",
       "3      company_x    my_account   10000    other   \n",
       "4      company_x    my_account    3000   salary   \n",
       "\n",
       "                               time  \n",
       "id                                   \n",
       "1  2018-02-25 08:00:10.002000+00:00  \n",
       "2         2018-02-25 09:00:30+00:00  \n",
       "3  2018-02-25 10:02:00.030000+00:00  \n",
       "4         2018-02-26 08:00:00+00:00  "
      ]
     },
     "execution_count": 21,
     "metadata": {},
     "output_type": "execute_result"
    }
   ],
   "source": [
    "df"
   ]
  },
  {
   "cell_type": "code",
   "execution_count": 27,
   "metadata": {},
   "outputs": [],
   "source": [
    "start_time = datetime.datetime.strptime(\"2018-02-25T01:00:20.050Z\", '%Y-%m-%dT%H:%M:%S.%fZ')\n",
    "end_time = datetime.datetime.strptime(\"2018-02-26T01:00:20.050Z\", '%Y-%m-%dT%H:%M:%S.%fZ')"
   ]
  },
  {
   "cell_type": "code",
   "execution_count": 26,
   "metadata": {},
   "outputs": [
    {
     "data": {
      "text/plain": [
       "datetime.datetime(2018, 2, 26, 8, 1, 20, 50000)"
      ]
     },
     "execution_count": 26,
     "metadata": {},
     "output_type": "execute_result"
    }
   ],
   "source": [
    "start_time"
   ]
  },
  {
   "cell_type": "code",
   "execution_count": 31,
   "metadata": {},
   "outputs": [
    {
     "data": {
      "text/plain": [
       "sourceAccount            object\n",
       "targetAccount            object\n",
       "amount                    int64\n",
       "category                 object\n",
       "time             datetime64[ns]\n",
       "dtype: object"
      ]
     },
     "execution_count": 31,
     "metadata": {},
     "output_type": "execute_result"
    }
   ],
   "source": [
    "df.dtypes"
   ]
  },
  {
   "cell_type": "code",
   "execution_count": 33,
   "metadata": {},
   "outputs": [],
   "source": [
    "filtered_df = df[(df['category'] == 'salary') & (df['time'] >= start_time) & (df['time'] <= end_time)]"
   ]
  },
  {
   "cell_type": "code",
   "execution_count": 34,
   "metadata": {},
   "outputs": [
    {
     "data": {
      "text/plain": [
       "5000"
      ]
     },
     "execution_count": 34,
     "metadata": {},
     "output_type": "execute_result"
    }
   ],
   "source": [
    "filtered_df['amount'].sum()"
   ]
  },
  {
   "cell_type": "code",
   "execution_count": 142,
   "metadata": {},
   "outputs": [],
   "source": [
    "l = [[1,2,3], [[4,5], 6, [7,8]]]"
   ]
  },
  {
   "cell_type": "code",
   "execution_count": 189,
   "metadata": {},
   "outputs": [
    {
     "data": {
      "text/plain": [
       "[[1, 2]]"
      ]
     },
     "execution_count": 189,
     "metadata": {},
     "output_type": "execute_result"
    }
   ],
   "source": [
    "l = []\n",
    "l.append([1,2])\n",
    "l"
   ]
  },
  {
   "cell_type": "code",
   "execution_count": 190,
   "metadata": {},
   "outputs": [],
   "source": [
    "from datetime import datetime as dt\n",
    "\n",
    "def group_into_dict(transactions):\n",
    "    transaction_groups = {}\n",
    "\n",
    "    for transaction in transactions:\n",
    "        key = '{source_account}-{target_account}:{amount};{category}'.format(\n",
    "            source_account=transaction['sourceAccount'],\n",
    "            target_account=transaction['targetAccount'],\n",
    "            amount=str(transaction['amount']),\n",
    "            category=transaction['category'])\n",
    "        \n",
    "        transaction_groups.setdefault(key, []).append(transaction)\n",
    "    \n",
    "    return transaction_groups\n",
    "\n",
    "def find_duplicate_transactions(*transactions: dict):\n",
    "    TIME_FORMAT = '%Y-%m-%dT%H:%M:%S.%fZ'\n",
    "    #sorted_transactions = sorted(transactions, key=lambda transaction: dt.strptime(transaction['time'], TIME_FORMAT))    \n",
    "    transaction_groups = group_into_dict(transactions)\n",
    "    \n",
    "    output_lists = []\n",
    "\n",
    "    for key in transaction_groups.keys():\n",
    "        if len(transaction_groups[key]) > 1:\n",
    "\n",
    "            potential_duplicate_list = sorted(transaction_groups[key], key=lambda transaction: dt.strptime(transaction['time'], TIME_FORMAT))\n",
    "            output_list = []\n",
    "            for i in range(len(potential_duplicate_list) - 1):\n",
    "                transaction_1 = potential_duplicate_list[i]\n",
    "                transaction_2 = potential_duplicate_list[i+1]\n",
    "                print('i: {}, T1: {}, T2: {}'.format(i, transaction_1, transaction_2))\n",
    "                if (dt.strptime(transaction_2['time'], TIME_FORMAT) - (dt.strptime(transaction_1['time'], TIME_FORMAT))).total_seconds() <= 60:\n",
    "                    print('Passed check...')\n",
    "                    print('T1: {}, T2: {}'.format(transaction_1, transaction_2))\n",
    "                    output_list.extend([transaction_1, transaction_2]) if len(output_list) == 0 else output_list.append(transaction_2)\n",
    "                else:\n",
    "                    if len(output_list) > 1:\n",
    "                        print('Appending..')\n",
    "                        print(output_list)\n",
    "                        output_lists.append(output_list)\n",
    "                        output_list = []\n",
    "            if len(output_list) > 1:\n",
    "                print('Final Append..')\n",
    "                print(output_list)\n",
    "                output_lists.append(output_list)\n",
    "\n",
    "    # for transaction in sorted_transactions:\n",
    "    #     key = '{source_account}-{target_account}:{amount};{category}'.format(\n",
    "    #         source_account=transaction['sourceAccount'],\n",
    "    #         target_account=transaction['targetAccount'],\n",
    "    #         amount=str(transaction['amount']),\n",
    "    #         category=transaction['category'])\n",
    "    #     transaction_list = transaction_groups.get(key, [])\n",
    "    #     if len(transaction_list) > 0:\n",
    "    #         #print(transaction_list)\n",
    "    #         if (dt.strptime(transaction['time'], TIME_FORMAT) - (dt.strptime(transaction_list[-1][-1]['time'], TIME_FORMAT))).total_seconds() <= 60:\n",
    "    #             transaction_list[-1].append(transaction)\n",
    "    #         else:\n",
    "    #             #output_lists.append(transaction_list)\n",
    "    #             transaction_list.append([transaction])\n",
    "    #     else:\n",
    "    #         transaction_groups[key] = [[transaction]]\n",
    "    \n",
    "    # for key in transaction_groups:\n",
    "    #     output_lists+=transaction_groups[key]\n",
    "\n",
    "\n",
    "    \n",
    "\n",
    "    return sorted(output_lists, key=lambda transaction_list: (dt.strptime(transaction_list[0]['time'], TIME_FORMAT)))"
   ]
  },
  {
   "cell_type": "code",
   "execution_count": 133,
   "metadata": {},
   "outputs": [
    {
     "data": {
      "text/plain": [
       "[[0, 1, 2], [3, 4, 5]]"
      ]
     },
     "execution_count": 133,
     "metadata": {},
     "output_type": "execute_result"
    }
   ],
   "source": [
    "l = []\n",
    "l.append([0,1,2])\n",
    "l.append([3,4,5])\n",
    "l"
   ]
  },
  {
   "cell_type": "code",
   "execution_count": 193,
   "metadata": {},
   "outputs": [
    {
     "data": {
      "text/plain": [
       "[]"
      ]
     },
     "execution_count": 193,
     "metadata": {},
     "output_type": "execute_result"
    }
   ],
   "source": [
    "data = ({\n",
    "        \"id\": 1,\n",
    "        \"sourceAccount\": \"company_x\",\n",
    "        \"targetAccount\": \"my_account\",\n",
    "        \"amount\": 10000,\n",
    "        \"category\": \"salary\",\n",
    "        \"time\": \"2018-02-25T08:00:00.000Z\",\n",
    "    },\n",
    "    {\n",
    "        \"id\": 2,\n",
    "        \"sourceAccount\": \"company_x\",\n",
    "        \"targetAccount\": \"my_account\",\n",
    "        \"amount\": 10000,\n",
    "        \"category\": \"salary\",\n",
    "        \"time\": \"2018-02-25T08:01:00.000Z\",\n",
    "    },\n",
    "    {\n",
    "        \"id\": 3,\n",
    "        \"sourceAccount\": \"company_x\",\n",
    "        \"targetAccount\": \"my_account\",\n",
    "        \"amount\": 10000,\n",
    "        \"category\": \"salary\",\n",
    "        \"time\": \"2018-02-25T08:03:00.000Z\",\n",
    "    },\n",
    "    {\n",
    "        \"id\": 4,\n",
    "        \"sourceAccount\": \"company_y\",\n",
    "        \"targetAccount\": \"my_account\",\n",
    "        \"amount\": 10000,\n",
    "        \"category\": \"salary\",\n",
    "        \"time\": \"2017-02-25T08:00:00.000Z\",\n",
    "    },\n",
    "    {\n",
    "        \"id\": 5,\n",
    "        \"sourceAccount\": \"company_y\",\n",
    "        \"targetAccount\": \"my_account\",\n",
    "        \"amount\": 10000,\n",
    "        \"category\": \"salary\",\n",
    "        \"time\": \"2017-02-25T08:00:00.000Z\",\n",
    "    },\n",
    "    {\n",
    "        \"id\": 6,\n",
    "        \"sourceAccount\": \"company_z\",\n",
    "        \"targetAccount\": \"my_account\",\n",
    "        \"amount\": 10000,\n",
    "        \"category\": \"salary\",\n",
    "        \"time\": \"2019-02-25T08:00:00.000Z\",\n",
    "    }\n",
    "\n",
    ")\n",
    "find_duplicate_transactions(*data)"
   ]
  },
  {
   "cell_type": "code",
   "execution_count": 181,
   "metadata": {},
   "outputs": [],
   "source": [
    "data = ({'id': 41, 'sourceAccount': 'my_account', 'targetAccount': 'supermarket', 'amount': -850, 'category': 'groceries', 'time': '2018-05-20T18:51:31.000Z'}, \n",
    " {'id': 24, 'sourceAccount': 'my_account', 'targetAccount': 'fitness_club', 'amount': -610, 'category': 'other', 'time': '2018-04-22T11:54:10.000Z'}, \n",
    " {'id': 3, 'sourceAccount': 'my_account', 'targetAccount': 'supermarket', 'amount': -1000, 'category': 'groceries', 'time': '2018-03-01T17:28:32.000Z'}, \n",
    " {'id': 101, 'sourceAccount': 'company_x', 'targetAccount': 'my_account', 'amount': 240, 'category': 'salary', 'time': '2018-02-25T08:00:30.000Z'}, \n",
    " {'id': 37, 'sourceAccount': 'my_account', 'targetAccount': 'supermarket', 'amount': -1690, 'category': 'groceries', 'time': '2018-05-10T18:14:10.000Z'}, \n",
    " {'id': 11, 'sourceAccount': 'my_account', 'targetAccount': 'supermarket', 'amount': -1540, 'category': 'groceries', 'time': '2018-03-05T16:24:31.000Z'}, \n",
    " {'id': 21, 'sourceAccount': 'my_account', 'targetAccount': 'supermarket', 'amount': -1690, 'category': 'groceries', 'time': '2018-04-10T18:14:10.000Z'}, \n",
    " {'id': 10, 'sourceAccount': 'my_account', 'targetAccount': 'fitness_club', 'amount': -560, 'category': 'other', 'time': '2018-03-04T12:54:10.000Z'}, \n",
    " {'id': 5, 'sourceAccount': 'my_account', 'targetAccount': 'coffee_shop', 'amount': -50, 'category': 'eating_out', 'time': '2018-03-02T09:25:20.000Z'}, \n",
    " {'id': 8, 'sourceAccount': 'my_account', 'targetAccount': 'restaurant', 'amount': -670, 'category': 'eating_out', 'time': '2018-03-02T18:54:45.000Z'}, \n",
    " {'id': 19, 'sourceAccount': 'my_account', 'targetAccount': 'coffee_shop', 'amount': -90, 'category': 'eating_out', 'time': '2018-04-07T09:54:21.000Z'}, \n",
    " {'id': 31, 'sourceAccount': 'my_account', 'targetAccount': 'coffee_shop', 'amount': -90, 'category': 'eating_out', 'time': '2018-05-07T09:55:10.000Z'}, \n",
    " {'id': 18, 'sourceAccount': 'my_account', 'targetAccount': 'cinema', 'amount': -580, 'category': 'other', 'time': '2018-04-05T20:01:18.000Z'}, \n",
    " {'id': 36, 'sourceAccount': 'my_account', 'targetAccount': 'internet_shop', 'amount': -1650, 'category': 'other', 'time': '2018-05-08T21:36:41.000Z'}, \n",
    " {'id': 7, 'sourceAccount': 'my_account', 'targetAccount': 'supermarket', 'amount': -160, 'category': 'groceries', 'time': '2018-03-02T13:14:00.000Z'}, \n",
    " {'id': 42, 'sourceAccount': 'my_account', 'targetAccount': 'cinema', 'amount': -450, 'category': 'other', 'time': '2018-05-23T19:13:10.000Z'}, \n",
    " {'id': 6, 'sourceAccount': 'my_account', 'targetAccount': 'internet_shop', 'amount': -250, 'category': 'other', 'time': '2018-03-01T22:16:40.000Z'}, \n",
    " {'id': 20, 'sourceAccount': 'my_account', 'targetAccount': 'internet_shop', 'amount': -1650, 'category': 'other', 'time': '2018-04-08T21:36:41.000Z'}, \n",
    " {'id': 29, 'sourceAccount': 'my_account', 'targetAccount': 'cinema', 'amount': -580, 'category': 'other', 'time': '2018-05-05T20:01:18.000Z'}, \n",
    " {'id': 25, 'sourceAccount': 'my_account', 'targetAccount': 'supermarket', 'amount': -850, 'category': 'groceries', 'time': '2018-04-20T18:51:31.000Z'}, \n",
    " {'id': 201, 'sourceAccount': 'company_x', 'targetAccount': 'my_account', 'amount': 10000, 'category': 'pension_benefits', 'time': '2018-02-25T08:00:00.000Z'}, \n",
    " {'id': 32, 'sourceAccount': 'my_account', 'targetAccount': 'coffee_shop', 'amount': -90, 'category': 'eating_out', 'time': '2018-05-07T09:56:09.000Z'}, \n",
    " {'id': 23, 'sourceAccount': 'my_account', 'targetAccount': 'coffee_shop', 'amount': -70, 'category': 'eating_out', 'time': '2018-04-15T09:12:20.000Z'}, \n",
    " {'id': 17, 'sourceAccount': 'my_account', 'targetAccount': 'supermarket', 'amount': -1870, 'category': 'groceries', 'time': '2018-04-05T10:24:30.000Z'}, \n",
    " {'id': 12, 'sourceAccount': 'my_account', 'targetAccount': 'bowling_place', 'amount': -600, 'category': 'other', 'time': '2018-03-05T21:12:10.000Z'}, \n",
    " {'id': 15, 'sourceAccount': 'my_account', 'targetAccount': 'coffee_shop', 'amount': -50, 'category': 'eating_out', 'time': '2018-04-01T10:25:10.000Z'}, \n",
    " {'id': 1, 'sourceAccount': 'company_x', 'targetAccount': 'my_account', 'amount': 10000, 'category': 'salary', 'time': '2018-02-25T08:00:00.000Z'}, {'id': 2, 'sourceAccount': 'my_account', 'targetAccount': 'coffee_shop', 'amount': -50, 'category': 'eating_out', 'time': '2018-03-01T12:34:00.000Z'}, {'id': 40, 'sourceAccount': 'my_account', 'targetAccount': 'fitness_club', 'amount': -610, 'category': 'other', 'time': '2018-05-22T11:54:10.000Z'}, {'id': 33, 'sourceAccount': 'my_account', 'targetAccount': 'coffee_shop', 'amount': -90, 'category': 'eating_out', 'time': '2018-05-07T09:57:05.000Z'}, {'id': 38, 'sourceAccount': 'my_account', 'targetAccount': 'restaurant', 'amount': -970, 'category': 'eating_out', 'time': '2018-05-17T19:52:46.000Z'}, {'id': 39, 'sourceAccount': 'my_account', 'targetAccount': 'coffee_shop', 'amount': -70, 'category': 'eating_out', 'time': '2018-05-15T09:12:20.000Z'}, {'id': 14, 'sourceAccount': 'my_account', 'targetAccount': 'coffee_shop', 'amount': -50, 'category': 'eating_out', 'time': '2018-04-01T10:24:40.000Z'}, {'id': 9, 'sourceAccount': 'my_account', 'targetAccount': 'coffee_shop', 'amount': -50, 'category': 'eating_out', 'time': '2018-03-04T07:14:20.000Z'}, {'id': 27, 'sourceAccount': 'company_x', 'targetAccount': 'my_account', 'amount': 10000, 'category': 'salary', 'time': '2018-04-25T08:00:00.000Z'}, {'id': 26, 'sourceAccount': 'my_account', 'targetAccount': 'cinema', 'amount': -450, 'category': 'other', 'time': '2018-04-23T19:13:10.000Z'}, {'id': 22, 'sourceAccount': 'my_account', 'targetAccount': 'restaurant', 'amount': -970, 'category': 'eating_out', 'time': '2018-04-17T19:52:46.000Z'}, {'id': 102, 'sourceAccount': 'my_account', 'targetAccount': 'internet_shop', 'amount': -250, 'category': 'other', 'time': '2018-03-01T22:16:50.000Z'}, {'id': 28, 'sourceAccount': 'my_account', 'targetAccount': 'supermarket', 'amount': -1870, 'category': 'groceries', 'time': '2018-05-05T10:24:30.000Z'}, {'id': 16, 'sourceAccount': 'company_x', 'targetAccount': 'my_account', 'amount': 10000, 'category': 'salary', 'time': '2018-03-25T08:10:00.000Z'}, {'id': 30, 'sourceAccount': 'my_account', 'targetAccount': 'coffee_shop', 'amount': -90, 'category': 'eating_out', 'time': '2018-05-07T09:54:21.000Z'}, {'id': 4, 'sourceAccount': 'my_account', 'targetAccount': 'cinema', 'amount': -330, 'category': 'other', 'time': '2018-03-01T20:10:15.000Z'}, {'id': 35, 'sourceAccount': 'my_account', 'targetAccount': 'coffee_shop', 'amount': -90, 'category': 'eating_out', 'time': '2018-05-07T09:58:06.000Z'}, {'id': 13, 'sourceAccount': 'my_account', 'targetAccount': 'coffee_shop', 'amount': -50, 'category': 'eating_out', 'time': '2018-04-01T10:24:00.000Z'})"
   ]
  },
  {
   "cell_type": "code",
   "execution_count": 191,
   "metadata": {},
   "outputs": [
    {
     "name": "stdout",
     "output_type": "stream",
     "text": [
      "i: 0, T1: {'id': 25, 'sourceAccount': 'my_account', 'targetAccount': 'supermarket', 'amount': -850, 'category': 'groceries', 'time': '2018-04-20T18:51:31.000Z'}, T2: {'id': 41, 'sourceAccount': 'my_account', 'targetAccount': 'supermarket', 'amount': -850, 'category': 'groceries', 'time': '2018-05-20T18:51:31.000Z'}\n",
      "i: 0, T1: {'id': 24, 'sourceAccount': 'my_account', 'targetAccount': 'fitness_club', 'amount': -610, 'category': 'other', 'time': '2018-04-22T11:54:10.000Z'}, T2: {'id': 40, 'sourceAccount': 'my_account', 'targetAccount': 'fitness_club', 'amount': -610, 'category': 'other', 'time': '2018-05-22T11:54:10.000Z'}\n",
      "i: 0, T1: {'id': 21, 'sourceAccount': 'my_account', 'targetAccount': 'supermarket', 'amount': -1690, 'category': 'groceries', 'time': '2018-04-10T18:14:10.000Z'}, T2: {'id': 37, 'sourceAccount': 'my_account', 'targetAccount': 'supermarket', 'amount': -1690, 'category': 'groceries', 'time': '2018-05-10T18:14:10.000Z'}\n",
      "i: 0, T1: {'id': 2, 'sourceAccount': 'my_account', 'targetAccount': 'coffee_shop', 'amount': -50, 'category': 'eating_out', 'time': '2018-03-01T12:34:00.000Z'}, T2: {'id': 5, 'sourceAccount': 'my_account', 'targetAccount': 'coffee_shop', 'amount': -50, 'category': 'eating_out', 'time': '2018-03-02T09:25:20.000Z'}\n",
      "i: 1, T1: {'id': 5, 'sourceAccount': 'my_account', 'targetAccount': 'coffee_shop', 'amount': -50, 'category': 'eating_out', 'time': '2018-03-02T09:25:20.000Z'}, T2: {'id': 9, 'sourceAccount': 'my_account', 'targetAccount': 'coffee_shop', 'amount': -50, 'category': 'eating_out', 'time': '2018-03-04T07:14:20.000Z'}\n",
      "i: 2, T1: {'id': 9, 'sourceAccount': 'my_account', 'targetAccount': 'coffee_shop', 'amount': -50, 'category': 'eating_out', 'time': '2018-03-04T07:14:20.000Z'}, T2: {'id': 13, 'sourceAccount': 'my_account', 'targetAccount': 'coffee_shop', 'amount': -50, 'category': 'eating_out', 'time': '2018-04-01T10:24:00.000Z'}\n",
      "i: 3, T1: {'id': 13, 'sourceAccount': 'my_account', 'targetAccount': 'coffee_shop', 'amount': -50, 'category': 'eating_out', 'time': '2018-04-01T10:24:00.000Z'}, T2: {'id': 14, 'sourceAccount': 'my_account', 'targetAccount': 'coffee_shop', 'amount': -50, 'category': 'eating_out', 'time': '2018-04-01T10:24:40.000Z'}\n",
      "Passed check...\n",
      "T1: {'id': 13, 'sourceAccount': 'my_account', 'targetAccount': 'coffee_shop', 'amount': -50, 'category': 'eating_out', 'time': '2018-04-01T10:24:00.000Z'}, T2: {'id': 14, 'sourceAccount': 'my_account', 'targetAccount': 'coffee_shop', 'amount': -50, 'category': 'eating_out', 'time': '2018-04-01T10:24:40.000Z'}\n",
      "i: 4, T1: {'id': 14, 'sourceAccount': 'my_account', 'targetAccount': 'coffee_shop', 'amount': -50, 'category': 'eating_out', 'time': '2018-04-01T10:24:40.000Z'}, T2: {'id': 15, 'sourceAccount': 'my_account', 'targetAccount': 'coffee_shop', 'amount': -50, 'category': 'eating_out', 'time': '2018-04-01T10:25:10.000Z'}\n",
      "Passed check...\n",
      "T1: {'id': 14, 'sourceAccount': 'my_account', 'targetAccount': 'coffee_shop', 'amount': -50, 'category': 'eating_out', 'time': '2018-04-01T10:24:40.000Z'}, T2: {'id': 15, 'sourceAccount': 'my_account', 'targetAccount': 'coffee_shop', 'amount': -50, 'category': 'eating_out', 'time': '2018-04-01T10:25:10.000Z'}\n",
      "Final Append..\n",
      "[{'id': 13, 'sourceAccount': 'my_account', 'targetAccount': 'coffee_shop', 'amount': -50, 'category': 'eating_out', 'time': '2018-04-01T10:24:00.000Z'}, {'id': 14, 'sourceAccount': 'my_account', 'targetAccount': 'coffee_shop', 'amount': -50, 'category': 'eating_out', 'time': '2018-04-01T10:24:40.000Z'}, {'id': 15, 'sourceAccount': 'my_account', 'targetAccount': 'coffee_shop', 'amount': -50, 'category': 'eating_out', 'time': '2018-04-01T10:25:10.000Z'}]\n",
      "i: 0, T1: {'id': 19, 'sourceAccount': 'my_account', 'targetAccount': 'coffee_shop', 'amount': -90, 'category': 'eating_out', 'time': '2018-04-07T09:54:21.000Z'}, T2: {'id': 30, 'sourceAccount': 'my_account', 'targetAccount': 'coffee_shop', 'amount': -90, 'category': 'eating_out', 'time': '2018-05-07T09:54:21.000Z'}\n",
      "i: 1, T1: {'id': 30, 'sourceAccount': 'my_account', 'targetAccount': 'coffee_shop', 'amount': -90, 'category': 'eating_out', 'time': '2018-05-07T09:54:21.000Z'}, T2: {'id': 31, 'sourceAccount': 'my_account', 'targetAccount': 'coffee_shop', 'amount': -90, 'category': 'eating_out', 'time': '2018-05-07T09:55:10.000Z'}\n",
      "Passed check...\n",
      "T1: {'id': 30, 'sourceAccount': 'my_account', 'targetAccount': 'coffee_shop', 'amount': -90, 'category': 'eating_out', 'time': '2018-05-07T09:54:21.000Z'}, T2: {'id': 31, 'sourceAccount': 'my_account', 'targetAccount': 'coffee_shop', 'amount': -90, 'category': 'eating_out', 'time': '2018-05-07T09:55:10.000Z'}\n",
      "i: 2, T1: {'id': 31, 'sourceAccount': 'my_account', 'targetAccount': 'coffee_shop', 'amount': -90, 'category': 'eating_out', 'time': '2018-05-07T09:55:10.000Z'}, T2: {'id': 32, 'sourceAccount': 'my_account', 'targetAccount': 'coffee_shop', 'amount': -90, 'category': 'eating_out', 'time': '2018-05-07T09:56:09.000Z'}\n",
      "Passed check...\n",
      "T1: {'id': 31, 'sourceAccount': 'my_account', 'targetAccount': 'coffee_shop', 'amount': -90, 'category': 'eating_out', 'time': '2018-05-07T09:55:10.000Z'}, T2: {'id': 32, 'sourceAccount': 'my_account', 'targetAccount': 'coffee_shop', 'amount': -90, 'category': 'eating_out', 'time': '2018-05-07T09:56:09.000Z'}\n",
      "i: 3, T1: {'id': 32, 'sourceAccount': 'my_account', 'targetAccount': 'coffee_shop', 'amount': -90, 'category': 'eating_out', 'time': '2018-05-07T09:56:09.000Z'}, T2: {'id': 33, 'sourceAccount': 'my_account', 'targetAccount': 'coffee_shop', 'amount': -90, 'category': 'eating_out', 'time': '2018-05-07T09:57:05.000Z'}\n",
      "Passed check...\n",
      "T1: {'id': 32, 'sourceAccount': 'my_account', 'targetAccount': 'coffee_shop', 'amount': -90, 'category': 'eating_out', 'time': '2018-05-07T09:56:09.000Z'}, T2: {'id': 33, 'sourceAccount': 'my_account', 'targetAccount': 'coffee_shop', 'amount': -90, 'category': 'eating_out', 'time': '2018-05-07T09:57:05.000Z'}\n",
      "i: 4, T1: {'id': 33, 'sourceAccount': 'my_account', 'targetAccount': 'coffee_shop', 'amount': -90, 'category': 'eating_out', 'time': '2018-05-07T09:57:05.000Z'}, T2: {'id': 35, 'sourceAccount': 'my_account', 'targetAccount': 'coffee_shop', 'amount': -90, 'category': 'eating_out', 'time': '2018-05-07T09:58:06.000Z'}\n",
      "Appending..\n",
      "[{'id': 30, 'sourceAccount': 'my_account', 'targetAccount': 'coffee_shop', 'amount': -90, 'category': 'eating_out', 'time': '2018-05-07T09:54:21.000Z'}, {'id': 31, 'sourceAccount': 'my_account', 'targetAccount': 'coffee_shop', 'amount': -90, 'category': 'eating_out', 'time': '2018-05-07T09:55:10.000Z'}, {'id': 32, 'sourceAccount': 'my_account', 'targetAccount': 'coffee_shop', 'amount': -90, 'category': 'eating_out', 'time': '2018-05-07T09:56:09.000Z'}, {'id': 33, 'sourceAccount': 'my_account', 'targetAccount': 'coffee_shop', 'amount': -90, 'category': 'eating_out', 'time': '2018-05-07T09:57:05.000Z'}]\n",
      "i: 0, T1: {'id': 18, 'sourceAccount': 'my_account', 'targetAccount': 'cinema', 'amount': -580, 'category': 'other', 'time': '2018-04-05T20:01:18.000Z'}, T2: {'id': 29, 'sourceAccount': 'my_account', 'targetAccount': 'cinema', 'amount': -580, 'category': 'other', 'time': '2018-05-05T20:01:18.000Z'}\n",
      "i: 0, T1: {'id': 20, 'sourceAccount': 'my_account', 'targetAccount': 'internet_shop', 'amount': -1650, 'category': 'other', 'time': '2018-04-08T21:36:41.000Z'}, T2: {'id': 36, 'sourceAccount': 'my_account', 'targetAccount': 'internet_shop', 'amount': -1650, 'category': 'other', 'time': '2018-05-08T21:36:41.000Z'}\n",
      "i: 0, T1: {'id': 26, 'sourceAccount': 'my_account', 'targetAccount': 'cinema', 'amount': -450, 'category': 'other', 'time': '2018-04-23T19:13:10.000Z'}, T2: {'id': 42, 'sourceAccount': 'my_account', 'targetAccount': 'cinema', 'amount': -450, 'category': 'other', 'time': '2018-05-23T19:13:10.000Z'}\n",
      "i: 0, T1: {'id': 6, 'sourceAccount': 'my_account', 'targetAccount': 'internet_shop', 'amount': -250, 'category': 'other', 'time': '2018-03-01T22:16:40.000Z'}, T2: {'id': 102, 'sourceAccount': 'my_account', 'targetAccount': 'internet_shop', 'amount': -250, 'category': 'other', 'time': '2018-03-01T22:16:50.000Z'}\n",
      "Passed check...\n",
      "T1: {'id': 6, 'sourceAccount': 'my_account', 'targetAccount': 'internet_shop', 'amount': -250, 'category': 'other', 'time': '2018-03-01T22:16:40.000Z'}, T2: {'id': 102, 'sourceAccount': 'my_account', 'targetAccount': 'internet_shop', 'amount': -250, 'category': 'other', 'time': '2018-03-01T22:16:50.000Z'}\n",
      "Final Append..\n",
      "[{'id': 6, 'sourceAccount': 'my_account', 'targetAccount': 'internet_shop', 'amount': -250, 'category': 'other', 'time': '2018-03-01T22:16:40.000Z'}, {'id': 102, 'sourceAccount': 'my_account', 'targetAccount': 'internet_shop', 'amount': -250, 'category': 'other', 'time': '2018-03-01T22:16:50.000Z'}]\n",
      "i: 0, T1: {'id': 23, 'sourceAccount': 'my_account', 'targetAccount': 'coffee_shop', 'amount': -70, 'category': 'eating_out', 'time': '2018-04-15T09:12:20.000Z'}, T2: {'id': 39, 'sourceAccount': 'my_account', 'targetAccount': 'coffee_shop', 'amount': -70, 'category': 'eating_out', 'time': '2018-05-15T09:12:20.000Z'}\n",
      "i: 0, T1: {'id': 17, 'sourceAccount': 'my_account', 'targetAccount': 'supermarket', 'amount': -1870, 'category': 'groceries', 'time': '2018-04-05T10:24:30.000Z'}, T2: {'id': 28, 'sourceAccount': 'my_account', 'targetAccount': 'supermarket', 'amount': -1870, 'category': 'groceries', 'time': '2018-05-05T10:24:30.000Z'}\n",
      "i: 0, T1: {'id': 1, 'sourceAccount': 'company_x', 'targetAccount': 'my_account', 'amount': 10000, 'category': 'salary', 'time': '2018-02-25T08:00:00.000Z'}, T2: {'id': 16, 'sourceAccount': 'company_x', 'targetAccount': 'my_account', 'amount': 10000, 'category': 'salary', 'time': '2018-03-25T08:10:00.000Z'}\n",
      "i: 1, T1: {'id': 16, 'sourceAccount': 'company_x', 'targetAccount': 'my_account', 'amount': 10000, 'category': 'salary', 'time': '2018-03-25T08:10:00.000Z'}, T2: {'id': 27, 'sourceAccount': 'company_x', 'targetAccount': 'my_account', 'amount': 10000, 'category': 'salary', 'time': '2018-04-25T08:00:00.000Z'}\n",
      "i: 0, T1: {'id': 22, 'sourceAccount': 'my_account', 'targetAccount': 'restaurant', 'amount': -970, 'category': 'eating_out', 'time': '2018-04-17T19:52:46.000Z'}, T2: {'id': 38, 'sourceAccount': 'my_account', 'targetAccount': 'restaurant', 'amount': -970, 'category': 'eating_out', 'time': '2018-05-17T19:52:46.000Z'}\n"
     ]
    },
    {
     "data": {
      "text/plain": [
       "[[{'id': 6,\n",
       "   'sourceAccount': 'my_account',\n",
       "   'targetAccount': 'internet_shop',\n",
       "   'amount': -250,\n",
       "   'category': 'other',\n",
       "   'time': '2018-03-01T22:16:40.000Z'},\n",
       "  {'id': 102,\n",
       "   'sourceAccount': 'my_account',\n",
       "   'targetAccount': 'internet_shop',\n",
       "   'amount': -250,\n",
       "   'category': 'other',\n",
       "   'time': '2018-03-01T22:16:50.000Z'}],\n",
       " [{'id': 13,\n",
       "   'sourceAccount': 'my_account',\n",
       "   'targetAccount': 'coffee_shop',\n",
       "   'amount': -50,\n",
       "   'category': 'eating_out',\n",
       "   'time': '2018-04-01T10:24:00.000Z'},\n",
       "  {'id': 14,\n",
       "   'sourceAccount': 'my_account',\n",
       "   'targetAccount': 'coffee_shop',\n",
       "   'amount': -50,\n",
       "   'category': 'eating_out',\n",
       "   'time': '2018-04-01T10:24:40.000Z'},\n",
       "  {'id': 15,\n",
       "   'sourceAccount': 'my_account',\n",
       "   'targetAccount': 'coffee_shop',\n",
       "   'amount': -50,\n",
       "   'category': 'eating_out',\n",
       "   'time': '2018-04-01T10:25:10.000Z'}],\n",
       " [{'id': 30,\n",
       "   'sourceAccount': 'my_account',\n",
       "   'targetAccount': 'coffee_shop',\n",
       "   'amount': -90,\n",
       "   'category': 'eating_out',\n",
       "   'time': '2018-05-07T09:54:21.000Z'},\n",
       "  {'id': 31,\n",
       "   'sourceAccount': 'my_account',\n",
       "   'targetAccount': 'coffee_shop',\n",
       "   'amount': -90,\n",
       "   'category': 'eating_out',\n",
       "   'time': '2018-05-07T09:55:10.000Z'},\n",
       "  {'id': 32,\n",
       "   'sourceAccount': 'my_account',\n",
       "   'targetAccount': 'coffee_shop',\n",
       "   'amount': -90,\n",
       "   'category': 'eating_out',\n",
       "   'time': '2018-05-07T09:56:09.000Z'},\n",
       "  {'id': 33,\n",
       "   'sourceAccount': 'my_account',\n",
       "   'targetAccount': 'coffee_shop',\n",
       "   'amount': -90,\n",
       "   'category': 'eating_out',\n",
       "   'time': '2018-05-07T09:57:05.000Z'}]]"
      ]
     },
     "execution_count": 191,
     "metadata": {},
     "output_type": "execute_result"
    }
   ],
   "source": [
    "find_duplicate_transactions(*data)"
   ]
  },
  {
   "cell_type": "code",
   "execution_count": 119,
   "metadata": {},
   "outputs": [
    {
     "data": {
      "text/plain": [
       "[[{'id': 4,\n",
       "   'sourceAccount': 'company_y',\n",
       "   'targetAccount': 'my_account',\n",
       "   'amount': 10000,\n",
       "   'category': 'salary',\n",
       "   'time': '2017-02-25T08:00:00.000Z'},\n",
       "  {'id': 5,\n",
       "   'sourceAccount': 'company_y',\n",
       "   'targetAccount': 'my_account',\n",
       "   'amount': 10000,\n",
       "   'category': 'salary',\n",
       "   'time': '2017-02-25T08:00:00.000Z'}],\n",
       " [{'id': 1,\n",
       "   'sourceAccount': 'company_x',\n",
       "   'targetAccount': 'my_account',\n",
       "   'amount': 10000,\n",
       "   'category': 'salary',\n",
       "   'time': '2018-02-25T08:00:00.000Z'},\n",
       "  {'id': 2,\n",
       "   'sourceAccount': 'company_x',\n",
       "   'targetAccount': 'my_account',\n",
       "   'amount': 10000,\n",
       "   'category': 'salary',\n",
       "   'time': '2018-02-25T08:01:00.000Z'}],\n",
       " [{'id': 3,\n",
       "   'sourceAccount': 'company_x',\n",
       "   'targetAccount': 'my_account',\n",
       "   'amount': 10000,\n",
       "   'category': 'salary',\n",
       "   'time': '2018-02-25T08:03:00.000Z'}],\n",
       " [{'id': 6,\n",
       "   'sourceAccount': 'company_z',\n",
       "   'targetAccount': 'my_account',\n",
       "   'amount': 10000,\n",
       "   'category': 'salary',\n",
       "   'time': '2019-02-25T08:00:00.000Z'}]]"
      ]
     },
     "execution_count": 119,
     "metadata": {},
     "output_type": "execute_result"
    }
   ],
   "source": [
    "find_duplicate_transactions(\n",
    "    {\n",
    "        \"id\": 1,\n",
    "        \"sourceAccount\": \"company_x\",\n",
    "        \"targetAccount\": \"my_account\",\n",
    "        \"amount\": 10000,\n",
    "        \"category\": \"salary\",\n",
    "        \"time\": \"2018-02-25T08:00:00.000Z\",\n",
    "    },\n",
    "    {\n",
    "        \"id\": 2,\n",
    "        \"sourceAccount\": \"company_x\",\n",
    "        \"targetAccount\": \"my_account\",\n",
    "        \"amount\": 10000,\n",
    "        \"category\": \"salary\",\n",
    "        \"time\": \"2018-02-25T08:01:00.000Z\",\n",
    "    },\n",
    "    {\n",
    "        \"id\": 3,\n",
    "        \"sourceAccount\": \"company_x\",\n",
    "        \"targetAccount\": \"my_account\",\n",
    "        \"amount\": 10000,\n",
    "        \"category\": \"salary\",\n",
    "        \"time\": \"2018-02-25T08:03:00.000Z\",\n",
    "    },\n",
    "    {\n",
    "        \"id\": 4,\n",
    "        \"sourceAccount\": \"company_y\",\n",
    "        \"targetAccount\": \"my_account\",\n",
    "        \"amount\": 10000,\n",
    "        \"category\": \"salary\",\n",
    "        \"time\": \"2017-02-25T08:00:00.000Z\",\n",
    "    },\n",
    "    {\n",
    "        \"id\": 5,\n",
    "        \"sourceAccount\": \"company_y\",\n",
    "        \"targetAccount\": \"my_account\",\n",
    "        \"amount\": 10000,\n",
    "        \"category\": \"salary\",\n",
    "        \"time\": \"2017-02-25T08:00:00.000Z\",\n",
    "    },\n",
    "    {\n",
    "        \"id\": 6,\n",
    "        \"sourceAccount\": \"company_z\",\n",
    "        \"targetAccount\": \"my_account\",\n",
    "        \"amount\": 10000,\n",
    "        \"category\": \"salary\",\n",
    "        \"time\": \"2019-02-25T08:00:00.000Z\",\n",
    "    }\n",
    ")"
   ]
  },
  {
   "cell_type": "code",
   "execution_count": 113,
   "metadata": {},
   "outputs": [
    {
     "data": {
      "text/plain": [
       "[[]]"
      ]
     },
     "execution_count": 113,
     "metadata": {},
     "output_type": "execute_result"
    }
   ],
   "source": [
    "l"
   ]
  },
  {
   "cell_type": "code",
   "execution_count": null,
   "metadata": {},
   "outputs": [],
   "source": []
  },
  {
   "cell_type": "code",
   "execution_count": 20,
   "metadata": {},
   "outputs": [
    {
     "data": {
      "text/plain": [
       "([<matplotlib.axis.XTick at 0x12fdf7610>,\n",
       "  <matplotlib.axis.XTick at 0x12fdf7760>,\n",
       "  <matplotlib.axis.XTick at 0x12fdcba00>,\n",
       "  <matplotlib.axis.XTick at 0x12fe404c0>,\n",
       "  <matplotlib.axis.XTick at 0x12fd15370>,\n",
       "  <matplotlib.axis.XTick at 0x12fc82970>,\n",
       "  <matplotlib.axis.XTick at 0x12fc68c70>,\n",
       "  <matplotlib.axis.XTick at 0x12f930c70>,\n",
       "  <matplotlib.axis.XTick at 0x12fb806d0>,\n",
       "  <matplotlib.axis.XTick at 0x12fb86cd0>,\n",
       "  <matplotlib.axis.XTick at 0x12fb506d0>,\n",
       "  <matplotlib.axis.XTick at 0x12fb50a60>,\n",
       "  <matplotlib.axis.XTick at 0x12fb71e20>,\n",
       "  <matplotlib.axis.XTick at 0x12fb2ccd0>,\n",
       "  <matplotlib.axis.XTick at 0x12fb92190>,\n",
       "  <matplotlib.axis.XTick at 0x107b0a910>,\n",
       "  <matplotlib.axis.XTick at 0x12f81dac0>,\n",
       "  <matplotlib.axis.XTick at 0x12fb3bdf0>,\n",
       "  <matplotlib.axis.XTick at 0x12fad03d0>,\n",
       "  <matplotlib.axis.XTick at 0x12fa3d040>,\n",
       "  <matplotlib.axis.XTick at 0x12fa75730>,\n",
       "  <matplotlib.axis.XTick at 0x12fa6fa60>,\n",
       "  <matplotlib.axis.XTick at 0x12f9dffd0>,\n",
       "  <matplotlib.axis.XTick at 0x12f9b6b20>,\n",
       "  <matplotlib.axis.XTick at 0x12fab5100>,\n",
       "  <matplotlib.axis.XTick at 0x12f9b6e20>],\n",
       " [Text(0, 0, '0'),\n",
       "  Text(1, 0, '1'),\n",
       "  Text(2, 0, '2'),\n",
       "  Text(3, 0, '3'),\n",
       "  Text(4, 0, '4'),\n",
       "  Text(5, 0, '5'),\n",
       "  Text(6, 0, '6'),\n",
       "  Text(7, 0, '7'),\n",
       "  Text(8, 0, '8'),\n",
       "  Text(9, 0, '9'),\n",
       "  Text(10, 0, '10'),\n",
       "  Text(11, 0, '11'),\n",
       "  Text(12, 0, '12'),\n",
       "  Text(13, 0, '13'),\n",
       "  Text(14, 0, '14'),\n",
       "  Text(15, 0, '15'),\n",
       "  Text(16, 0, '16'),\n",
       "  Text(17, 0, '17'),\n",
       "  Text(18, 0, '18'),\n",
       "  Text(19, 0, '19'),\n",
       "  Text(20, 0, '20'),\n",
       "  Text(21, 0, '21'),\n",
       "  Text(22, 0, '22'),\n",
       "  Text(23, 0, '23'),\n",
       "  Text(24, 0, '24'),\n",
       "  Text(25, 0, '25')])"
      ]
     },
     "execution_count": 20,
     "metadata": {},
     "output_type": "execute_result"
    },
    {
     "data": {
      "image/png": "[encoded data removed]",
      "text/plain": [
       "<Figure size 720x360 with 1 Axes>"
      ]
     },
     "metadata": {
      "needs_background": "light"
     },
     "output_type": "display_data"
    }
   ],
   "source": [
    "x = [x/2 for x in range(2*2, int(25.5*2))]\n",
    "y = [0, 0, 0, 0, 89, 142, 204, 279, 368, 470, 594, 736, 896, 1069, 1247, 1428, 1599, 1753, 1881, 1951, 1981, 1994, 1998, \n",
    "     2000, 2000, 2000, 2000, 2000, 2000, 2000, 2000, 2000, 2000, 2000, 2000, 2000, 2000, 2000, 2000, \n",
    "     2000, 2000, 2000, 2000, 2000, 2000, 2000, 2000, ]\n",
    "\n",
    "import seaborn as sns\n",
    "import matplotlib.pyplot as plt\n",
    "\n",
    "plt.figure(figsize=(10,5))\n",
    "ax = sns.scatterplot(x=x, y=y)\n",
    "plt.grid()\n",
    "plt.xlabel('Wind speed (m/s)')\n",
    "plt.ylabel('Power (W)')\n",
    "plt.xticks(list(range(0, 26)))"
   ]
  }
 ],
 "metadata": {
  "kernelspec": {
   "display_name": "base",
   "language": "python",
   "name": "python3"
  },
  "language_info": {
   "codemirror_mode": {
    "name": "ipython",
    "version": 3
   },
   "file_extension": ".py",
   "mimetype": "text/x-python",
   "name": "python",
   "nbconvert_exporter": "python",
   "pygments_lexer": "ipython3",
   "version": "3.9.12"
  },
  "orig_nbformat": 4
 },
 "nbformat": 4,
 "nbformat_minor": 2
}
