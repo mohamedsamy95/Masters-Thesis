{
 "cells": [
  {
   "cell_type": "code",
   "execution_count": 1,
   "metadata": {},
   "outputs": [],
   "source": [
    "import pandas as pd"
   ]
  },
  {
   "cell_type": "code",
   "execution_count": 2,
   "metadata": {},
   "outputs": [],
   "source": [
    "data_folder = 'Dataset/'"
   ]
  },
  {
   "cell_type": "code",
   "execution_count": 3,
   "metadata": {},
   "outputs": [],
   "source": [
    "#Read WTG data\n",
    "signals = 'wind-farm-1-signals-training.csv'\n",
    "signals_test = 'wind-farm-1-signals-testing.csv'\n",
    "\n",
    "#Read Signals data for all turbines and set timestamp as index\n",
    "all_data = pd.concat([pd.read_csv(data_folder + signals, delimiter=';'), pd.read_csv(data_folder + signals_test, delimiter=';')], ignore_index=True)\n",
    "all_data['Timestamp'] = pd.to_datetime(all_data['Timestamp'])\n",
    "all_data.set_index('Timestamp', inplace=True)\n",
    "\n",
    "\n",
    "#Read log data\n",
    "logs = 'wind-farm-1-logs-training.csv'\n",
    "logs_test = 'wind-farm-1-logs-testing.csv'\n",
    "\n",
    "#Read logs from all turbines and set TimeDetected as index\n",
    "log_data = pd.concat([pd.read_csv(data_folder + logs, delimiter=','), pd.read_csv(data_folder + logs_test, delimiter=',')], ignore_index=True)\n",
    "log_data['TimeDetected'] = pd.to_datetime(log_data['TimeDetected'])\n",
    "log_data.set_index('TimeDetected', inplace=True)\n",
    "\n",
    "#Target/Test turbine: Filter T_09 data out\n",
    "T09_data = all_data[all_data.Turbine_ID == 'T09']\n",
    "log_data_T09 = log_data[log_data['UnitTitle'] == 'T09']\n",
    "\n",
    "#Reference/Validation turbine: Filter T_01 data out\n",
    "T01_data = all_data[all_data.Turbine_ID == 'T01']\n",
    "log_data_T01 = log_data[log_data['UnitTitle'] == 'T01']\n",
    "\n",
    "#Remove duplicates in Timestamp index: Usually occurs at daylight saving\n",
    "T09_data = T09_data[~T09_data.index.duplicated(keep='first')]\n",
    "T01_data = T01_data[~T01_data.index.duplicated(keep='first')]"
   ]
  },
  {
   "cell_type": "code",
   "execution_count": 6,
   "metadata": {},
   "outputs": [
    {
     "data": {
      "text/plain": [
       "Index(['Turbine_ID', 'Gen_RPM_Max', 'Gen_RPM_Min', 'Gen_RPM_Avg',\n",
       "       'Gen_RPM_Std', 'Gen_Bear_Temp_Avg', 'Gen_Phase1_Temp_Avg',\n",
       "       'Gen_Phase2_Temp_Avg', 'Gen_Phase3_Temp_Avg', 'Hyd_Oil_Temp_Avg',\n",
       "       'Gear_Oil_Temp_Avg', 'Gear_Bear_Temp_Avg', 'Nac_Temp_Avg',\n",
       "       'Rtr_RPM_Max', 'Rtr_RPM_Min', 'Rtr_RPM_Avg', 'Amb_WindSpeed_Max',\n",
       "       'Amb_WindSpeed_Min', 'Amb_WindSpeed_Avg', 'Amb_WindSpeed_Std',\n",
       "       'Amb_WindDir_Relative_Avg', 'Amb_WindDir_Abs_Avg', 'Amb_Temp_Avg',\n",
       "       'Prod_LatestAvg_ActPwrGen0', 'Prod_LatestAvg_ActPwrGen1',\n",
       "       'Prod_LatestAvg_ActPwrGen2', 'Prod_LatestAvg_TotActPwr',\n",
       "       'Prod_LatestAvg_ReactPwrGen0', 'Prod_LatestAvg_ReactPwrGen1',\n",
       "       'Prod_LatestAvg_ReactPwrGen2', 'Prod_LatestAvg_TotReactPwr',\n",
       "       'HVTrafo_Phase1_Temp_Avg', 'HVTrafo_Phase2_Temp_Avg',\n",
       "       'HVTrafo_Phase3_Temp_Avg', 'Grd_InverterPhase1_Temp_Avg',\n",
       "       'Cont_Top_Temp_Avg', 'Cont_Hub_Temp_Avg', 'Cont_VCP_Temp_Avg',\n",
       "       'Gen_SlipRing_Temp_Avg', 'Spin_Temp_Avg'],\n",
       "      dtype='object')"
      ]
     },
     "execution_count": 6,
     "metadata": {},
     "output_type": "execute_result"
    }
   ],
   "source": [
    "all_data.columns[:40]"
   ]
  },
  {
   "cell_type": "code",
   "execution_count": 9,
   "metadata": {},
   "outputs": [
    {
     "data": {
      "text/plain": [
       "Index(['Blds_PitchAngle_Min', 'Blds_PitchAngle_Max', 'Blds_PitchAngle_Avg',\n",
       "       'Blds_PitchAngle_Std', 'Cont_VCP_ChokcoilTemp_Avg',\n",
       "       'Grd_RtrInvPhase1_Temp_Avg', 'Grd_RtrInvPhase2_Temp_Avg',\n",
       "       'Grd_RtrInvPhase3_Temp_Avg', 'Cont_VCP_WtrTemp_Avg', 'Grd_Prod_Pwr_Avg',\n",
       "       'Grd_Prod_CosPhi_Avg', 'Grd_Prod_Freq_Avg', 'Grd_Prod_VoltPhse1_Avg',\n",
       "       'Grd_Prod_VoltPhse2_Avg', 'Grd_Prod_VoltPhse3_Avg',\n",
       "       'Grd_Prod_CurPhse1_Avg', 'Grd_Prod_CurPhse2_Avg',\n",
       "       'Grd_Prod_CurPhse3_Avg', 'Grd_Prod_Pwr_Max', 'Grd_Prod_Pwr_Min',\n",
       "       'Grd_Busbar_Temp_Avg', 'Rtr_RPM_Std', 'Amb_WindSpeed_Est_Avg',\n",
       "       'Grd_Prod_Pwr_Std', 'Grd_Prod_ReactPwr_Avg', 'Grd_Prod_ReactPwr_Max',\n",
       "       'Grd_Prod_ReactPwr_Min', 'Grd_Prod_ReactPwr_Std',\n",
       "       'Grd_Prod_PsblePwr_Avg', 'Grd_Prod_PsblePwr_Max',\n",
       "       'Grd_Prod_PsblePwr_Min', 'Grd_Prod_PsblePwr_Std',\n",
       "       'Grd_Prod_PsbleInd_Avg', 'Grd_Prod_PsbleInd_Max',\n",
       "       'Grd_Prod_PsbleInd_Min', 'Grd_Prod_PsbleInd_Std',\n",
       "       'Grd_Prod_PsbleCap_Avg', 'Grd_Prod_PsbleCap_Max',\n",
       "       'Grd_Prod_PsbleCap_Min', 'Grd_Prod_PsbleCap_Std', 'Gen_Bear2_Temp_Avg',\n",
       "       'Nac_Direction_Avg'],\n",
       "      dtype='object')"
      ]
     },
     "execution_count": 9,
     "metadata": {},
     "output_type": "execute_result"
    }
   ],
   "source": [
    "all_data.columns[40:]"
   ]
  },
  {
   "cell_type": "code",
   "execution_count": 5,
   "metadata": {},
   "outputs": [
    {
     "data": {
      "text/plain": [
       "81"
      ]
     },
     "execution_count": 5,
     "metadata": {},
     "output_type": "execute_result"
    }
   ],
   "source": [
    "len(all_data.columns) - 1"
   ]
  }
 ],
 "metadata": {
  "kernelspec": {
   "display_name": "base",
   "language": "python",
   "name": "python3"
  },
  "language_info": {
   "codemirror_mode": {
    "name": "ipython",
    "version": 3
   },
   "file_extension": ".py",
   "mimetype": "text/x-python",
   "name": "python",
   "nbconvert_exporter": "python",
   "pygments_lexer": "ipython3",
   "version": "3.9.12"
  },
  "orig_nbformat": 4,
  "vscode": {
   "interpreter": {
    "hash": "1d36dedb7dc6896e503738213365eafff3d22714af433c3d09d7cca349aedbc5"
   }
  }
 },
 "nbformat": 4,
 "nbformat_minor": 2
}
