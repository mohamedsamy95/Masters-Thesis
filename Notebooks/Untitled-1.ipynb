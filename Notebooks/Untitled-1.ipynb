{
 "cells": [
  {
   "cell_type": "code",
   "execution_count": 1,
   "metadata": {},
   "outputs": [],
   "source": [
    "import pandas as pd"
   ]
  },
  {
   "cell_type": "code",
   "execution_count": 2,
   "metadata": {},
   "outputs": [],
   "source": [
    "input_dir  = '/Users/backupuser/loglizer/logparser/logs/SCADA/' # The input directory of log file\n",
    "output_dir = input_dir # The output directory of parsing results\n",
    "log_file   = 'logs.txt' # The input log file name\n",
    "log_format = '<TimeDetected>,<TimeReset>,<UnitTitle>,<Content>,<UnitTitleDestination>' # SCADA log format"
   ]
  },
  {
   "cell_type": "code",
   "execution_count": 3,
   "metadata": {},
   "outputs": [],
   "source": [
    "df_log_parsed_all = pd.read_csv(output_dir+log_file+'_structured.csv')\n",
    "df_log_struct_all = pd.read_csv(output_dir+log_file+'_templates.csv')"
   ]
  },
  {
   "cell_type": "code",
   "execution_count": 4,
   "metadata": {},
   "outputs": [
    {
     "data": {
      "text/html": [
       "<div>\n",
       "<style scoped>\n",
       "    .dataframe tbody tr th:only-of-type {\n",
       "        vertical-align: middle;\n",
       "    }\n",
       "\n",
       "    .dataframe tbody tr th {\n",
       "        vertical-align: top;\n",
       "    }\n",
       "\n",
       "    .dataframe thead th {\n",
       "        text-align: right;\n",
       "    }\n",
       "</style>\n",
       "<table border=\"1\" class=\"dataframe\">\n",
       "  <thead>\n",
       "    <tr style=\"text-align: right;\">\n",
       "      <th></th>\n",
       "      <th>LineId</th>\n",
       "      <th>TimeDetected</th>\n",
       "      <th>TimeReset</th>\n",
       "      <th>UnitTitle</th>\n",
       "      <th>Content</th>\n",
       "      <th>UnitTitleDestination</th>\n",
       "      <th>EventId</th>\n",
       "      <th>EventTemplate</th>\n",
       "      <th>ParameterList</th>\n",
       "    </tr>\n",
       "  </thead>\n",
       "  <tbody>\n",
       "    <tr>\n",
       "      <th>0</th>\n",
       "      <td>2</td>\n",
       "      <td>2017-09-01T00:00:48+00:00</td>\n",
       "      <td>NaN</td>\n",
       "      <td>T06</td>\n",
       "      <td>Gen. ext. vent. 2</td>\n",
       "      <td>NaN</td>\n",
       "      <td>c5e58325</td>\n",
       "      <td>Gen&lt;*&gt; &lt;*&gt; vent&lt;*&gt; &lt;*&gt;</td>\n",
       "      <td>['. ext.', '. 2']</td>\n",
       "    </tr>\n",
       "    <tr>\n",
       "      <th>1</th>\n",
       "      <td>3</td>\n",
       "      <td>2017-09-01T00:01:23+00:00</td>\n",
       "      <td>NaN</td>\n",
       "      <td>T01</td>\n",
       "      <td>Gen. ext. vent. 2</td>\n",
       "      <td>NaN</td>\n",
       "      <td>c5e58325</td>\n",
       "      <td>Gen&lt;*&gt; &lt;*&gt; vent&lt;*&gt; &lt;*&gt;</td>\n",
       "      <td>['. ext.', '. 2']</td>\n",
       "    </tr>\n",
       "    <tr>\n",
       "      <th>2</th>\n",
       "      <td>4</td>\n",
       "      <td>2017-09-01T00:04:14+00:00</td>\n",
       "      <td>NaN</td>\n",
       "      <td>T06</td>\n",
       "      <td>External power ref.:2000kW</td>\n",
       "      <td>NaN</td>\n",
       "      <td>6f139984</td>\n",
       "      <td>External power ref&lt;*&gt;:&lt;*&gt;&lt;*&gt;&lt;*&gt;&lt;*&gt;kW</td>\n",
       "      <td>['', '', '.:2000']</td>\n",
       "    </tr>\n",
       "    <tr>\n",
       "      <th>3</th>\n",
       "      <td>5</td>\n",
       "      <td>2017-09-01T00:07:05+00:00</td>\n",
       "      <td>NaN</td>\n",
       "      <td>T09</td>\n",
       "      <td>Gen. ext. vent. 2</td>\n",
       "      <td>NaN</td>\n",
       "      <td>c5e58325</td>\n",
       "      <td>Gen&lt;*&gt; &lt;*&gt; vent&lt;*&gt; &lt;*&gt;</td>\n",
       "      <td>['. ext.', '. 2']</td>\n",
       "    </tr>\n",
       "    <tr>\n",
       "      <th>4</th>\n",
       "      <td>6</td>\n",
       "      <td>2017-09-01T00:15:50+00:00</td>\n",
       "      <td>NaN</td>\n",
       "      <td>T09</td>\n",
       "      <td>External power ref.:2000kW</td>\n",
       "      <td>NaN</td>\n",
       "      <td>6f139984</td>\n",
       "      <td>External power ref&lt;*&gt;:&lt;*&gt;&lt;*&gt;&lt;*&gt;&lt;*&gt;kW</td>\n",
       "      <td>['', '', '.:2000']</td>\n",
       "    </tr>\n",
       "  </tbody>\n",
       "</table>\n",
       "</div>"
      ],
      "text/plain": [
       "   LineId               TimeDetected TimeReset UnitTitle  \\\n",
       "0       2  2017-09-01T00:00:48+00:00       NaN       T06   \n",
       "1       3  2017-09-01T00:01:23+00:00       NaN       T01   \n",
       "2       4  2017-09-01T00:04:14+00:00       NaN       T06   \n",
       "3       5  2017-09-01T00:07:05+00:00       NaN       T09   \n",
       "4       6  2017-09-01T00:15:50+00:00       NaN       T09   \n",
       "\n",
       "                      Content UnitTitleDestination   EventId  \\\n",
       "0           Gen. ext. vent. 2                  NaN  c5e58325   \n",
       "1           Gen. ext. vent. 2                  NaN  c5e58325   \n",
       "2  External power ref.:2000kW                  NaN  6f139984   \n",
       "3           Gen. ext. vent. 2                  NaN  c5e58325   \n",
       "4  External power ref.:2000kW                  NaN  6f139984   \n",
       "\n",
       "                          EventTemplate       ParameterList  \n",
       "0                Gen<*> <*> vent<*> <*>   ['. ext.', '. 2']  \n",
       "1                Gen<*> <*> vent<*> <*>   ['. ext.', '. 2']  \n",
       "2  External power ref<*>:<*><*><*><*>kW  ['', '', '.:2000']  \n",
       "3                Gen<*> <*> vent<*> <*>   ['. ext.', '. 2']  \n",
       "4  External power ref<*>:<*><*><*><*>kW  ['', '', '.:2000']  "
      ]
     },
     "execution_count": 4,
     "metadata": {},
     "output_type": "execute_result"
    }
   ],
   "source": [
    "df_log_parsed_all.head()"
   ]
  },
  {
   "cell_type": "code",
   "execution_count": 5,
   "metadata": {},
   "outputs": [
    {
     "data": {
      "text/html": [
       "<div>\n",
       "<style scoped>\n",
       "    .dataframe tbody tr th:only-of-type {\n",
       "        vertical-align: middle;\n",
       "    }\n",
       "\n",
       "    .dataframe tbody tr th {\n",
       "        vertical-align: top;\n",
       "    }\n",
       "\n",
       "    .dataframe thead th {\n",
       "        text-align: right;\n",
       "    }\n",
       "</style>\n",
       "<table border=\"1\" class=\"dataframe\">\n",
       "  <thead>\n",
       "    <tr style=\"text-align: right;\">\n",
       "      <th></th>\n",
       "      <th>EventId</th>\n",
       "      <th>EventTemplate</th>\n",
       "      <th>Occurrences</th>\n",
       "    </tr>\n",
       "  </thead>\n",
       "  <tbody>\n",
       "    <tr>\n",
       "      <th>0</th>\n",
       "      <td>c5e58325</td>\n",
       "      <td>Gen&lt;*&gt; &lt;*&gt; vent&lt;*&gt; &lt;*&gt;</td>\n",
       "      <td>3107</td>\n",
       "    </tr>\n",
       "    <tr>\n",
       "      <th>1</th>\n",
       "      <td>6f139984</td>\n",
       "      <td>External power ref&lt;*&gt;:&lt;*&gt;&lt;*&gt;&lt;*&gt;&lt;*&gt;kW</td>\n",
       "      <td>24108</td>\n",
       "    </tr>\n",
       "    <tr>\n",
       "      <th>2</th>\n",
       "      <td>59c74dd9</td>\n",
       "      <td>Nac&lt;*&gt;vent&lt;*&gt;&lt;*&gt;</td>\n",
       "      <td>6021</td>\n",
       "    </tr>\n",
       "    <tr>\n",
       "      <th>3</th>\n",
       "      <td>cba5200d</td>\n",
       "      <td>Generator &lt;*&gt; in</td>\n",
       "      <td>4714</td>\n",
       "    </tr>\n",
       "    <tr>\n",
       "      <th>4</th>\n",
       "      <td>95402390</td>\n",
       "      <td>Running up timeout</td>\n",
       "      <td>147</td>\n",
       "    </tr>\n",
       "  </tbody>\n",
       "</table>\n",
       "</div>"
      ],
      "text/plain": [
       "    EventId                         EventTemplate  Occurrences\n",
       "0  c5e58325                Gen<*> <*> vent<*> <*>         3107\n",
       "1  6f139984  External power ref<*>:<*><*><*><*>kW        24108\n",
       "2  59c74dd9                      Nac<*>vent<*><*>         6021\n",
       "3  cba5200d                      Generator <*> in         4714\n",
       "4  95402390                    Running up timeout          147"
      ]
     },
     "execution_count": 5,
     "metadata": {},
     "output_type": "execute_result"
    }
   ],
   "source": [
    "df_log_struct_all.head()"
   ]
  },
  {
   "cell_type": "code",
   "execution_count": 9,
   "metadata": {},
   "outputs": [],
   "source": [
    "df_log_parsed = df_log_parsed_all[df_log_parsed_all.UnitTitle == 'T01']\n",
    "df_log_parsed.index = pd.to_datetime(df_log_parsed.TimeDetected, utc=True)"
   ]
  },
  {
   "cell_type": "code",
   "execution_count": 10,
   "metadata": {},
   "outputs": [
    {
     "name": "stderr",
     "output_type": "stream",
     "text": [
      "/Users/backupuser/Library/Python/3.6/lib/python/site-packages/ipykernel_launcher.py:2: SettingWithCopyWarning: \n",
      "A value is trying to be set on a copy of a slice from a DataFrame.\n",
      "Try using .loc[row_indexer,col_indexer] = value instead\n",
      "\n",
      "See the caveats in the documentation: https://pandas.pydata.org/pandas-docs/stable/user_guide/indexing.html#returning-a-view-versus-a-copy\n",
      "  \n"
     ]
    }
   ],
   "source": [
    "lst_EventId =  [[i] for i in df_log_parsed.EventId]\n",
    "df_log_parsed['lst_EventId'] = lst_EventId\n",
    "\n",
    "df_log_parsed = df_log_parsed.sort_index()\n",
    "df_1h_logseq = df_log_parsed.lst_EventId.resample('6H').sum()"
   ]
  },
  {
   "cell_type": "code",
   "execution_count": 12,
   "metadata": {},
   "outputs": [
    {
     "data": {
      "text/plain": [
       "TimeDetected\n",
       "2017-11-08 00:00:00+00:00    0\n",
       "2017-11-26 00:00:00+00:00    0\n",
       "2017-12-09 00:00:00+00:00    0\n",
       "Name: lst_EventId, dtype: object"
      ]
     },
     "execution_count": 12,
     "metadata": {},
     "output_type": "execute_result"
    }
   ],
   "source": [
    "df_1h_logseq[df_1h_logseq == 0]"
   ]
  },
  {
   "cell_type": "code",
   "execution_count": 21,
   "metadata": {},
   "outputs": [],
   "source": [
    "d = {x: i for i, x in enumerate(set(df_log_parsed.EventId))}\n",
    "lst_new = [d[x] for x in df_log_parsed.EventId]"
   ]
  },
  {
   "cell_type": "code",
   "execution_count": 23,
   "metadata": {},
   "outputs": [
    {
     "name": "stdout",
     "output_type": "stream",
     "text": [
      "====== Transformed train data summary ======\n",
      "Train data shape: 15412-by-16\n",
      "\n"
     ]
    }
   ],
   "source": [
    "from loglizer import preprocessing\n",
    "feature_extractor = preprocessing.FeatureExtractor()\n",
    "x_train = feature_extractor.fit_transform(df_log_parsed.EventId, term_weighting='tf-idf', \n",
    "                                              normalization='zero-mean')"
   ]
  },
  {
   "cell_type": "code",
   "execution_count": 26,
   "metadata": {},
   "outputs": [
    {
     "data": {
      "text/plain": [
       "16"
      ]
     },
     "execution_count": 26,
     "metadata": {},
     "output_type": "execute_result"
    }
   ],
   "source": [
    "x_train.shape[1]"
   ]
  },
  {
   "cell_type": "code",
   "execution_count": 28,
   "metadata": {},
   "outputs": [],
   "source": [
    "log_feats = pd.DataFrame(data=x_train, index=df_log_parsed.index, columns=['log_ft_{}'.format(i+1) for i in range(x_train.shape[1])])"
   ]
  },
  {
   "cell_type": "code",
   "execution_count": 29,
   "metadata": {},
   "outputs": [
    {
     "data": {
      "text/html": [
       "<div>\n",
       "<style scoped>\n",
       "    .dataframe tbody tr th:only-of-type {\n",
       "        vertical-align: middle;\n",
       "    }\n",
       "\n",
       "    .dataframe tbody tr th {\n",
       "        vertical-align: top;\n",
       "    }\n",
       "\n",
       "    .dataframe thead th {\n",
       "        text-align: right;\n",
       "    }\n",
       "</style>\n",
       "<table border=\"1\" class=\"dataframe\">\n",
       "  <thead>\n",
       "    <tr style=\"text-align: right;\">\n",
       "      <th></th>\n",
       "      <th>log_ft_1</th>\n",
       "      <th>log_ft_2</th>\n",
       "      <th>log_ft_3</th>\n",
       "      <th>log_ft_4</th>\n",
       "      <th>log_ft_5</th>\n",
       "      <th>log_ft_6</th>\n",
       "      <th>log_ft_7</th>\n",
       "      <th>log_ft_8</th>\n",
       "      <th>log_ft_9</th>\n",
       "      <th>log_ft_10</th>\n",
       "      <th>log_ft_11</th>\n",
       "      <th>log_ft_12</th>\n",
       "      <th>log_ft_13</th>\n",
       "      <th>log_ft_14</th>\n",
       "      <th>log_ft_15</th>\n",
       "      <th>log_ft_16</th>\n",
       "    </tr>\n",
       "    <tr>\n",
       "      <th>TimeDetected</th>\n",
       "      <th></th>\n",
       "      <th></th>\n",
       "      <th></th>\n",
       "      <th></th>\n",
       "      <th></th>\n",
       "      <th></th>\n",
       "      <th></th>\n",
       "      <th></th>\n",
       "      <th></th>\n",
       "      <th></th>\n",
       "      <th></th>\n",
       "      <th></th>\n",
       "      <th></th>\n",
       "      <th></th>\n",
       "      <th></th>\n",
       "      <th></th>\n",
       "    </tr>\n",
       "  </thead>\n",
       "  <tbody>\n",
       "    <tr>\n",
       "      <th>2017-09-01 00:01:23+00:00</th>\n",
       "      <td>0.277035</td>\n",
       "      <td>1.828561</td>\n",
       "      <td>1.246640</td>\n",
       "      <td>0.237380</td>\n",
       "      <td>0.474226</td>\n",
       "      <td>0.914547</td>\n",
       "      <td>-0.392982</td>\n",
       "      <td>-0.411109</td>\n",
       "      <td>-0.242768</td>\n",
       "      <td>-0.785864</td>\n",
       "      <td>-0.37935</td>\n",
       "      <td>-0.372405</td>\n",
       "      <td>-0.292097</td>\n",
       "      <td>-0.420509</td>\n",
       "      <td>-0.335346</td>\n",
       "      <td>-0.520431</td>\n",
       "    </tr>\n",
       "    <tr>\n",
       "      <th>2017-09-01 00:23:41+00:00</th>\n",
       "      <td>0.277035</td>\n",
       "      <td>0.290254</td>\n",
       "      <td>-0.337302</td>\n",
       "      <td>-0.338128</td>\n",
       "      <td>-0.376126</td>\n",
       "      <td>-0.431809</td>\n",
       "      <td>0.325268</td>\n",
       "      <td>0.948551</td>\n",
       "      <td>0.083633</td>\n",
       "      <td>1.309410</td>\n",
       "      <td>-0.37935</td>\n",
       "      <td>-0.372405</td>\n",
       "      <td>-0.292097</td>\n",
       "      <td>-0.420509</td>\n",
       "      <td>-0.335346</td>\n",
       "      <td>-0.520431</td>\n",
       "    </tr>\n",
       "    <tr>\n",
       "      <th>2017-09-01 00:23:42+00:00</th>\n",
       "      <td>0.277035</td>\n",
       "      <td>0.290254</td>\n",
       "      <td>-0.337302</td>\n",
       "      <td>-0.338128</td>\n",
       "      <td>-0.376126</td>\n",
       "      <td>-0.431809</td>\n",
       "      <td>0.325268</td>\n",
       "      <td>0.948551</td>\n",
       "      <td>0.083633</td>\n",
       "      <td>1.309410</td>\n",
       "      <td>-0.37935</td>\n",
       "      <td>-0.372405</td>\n",
       "      <td>-0.292097</td>\n",
       "      <td>-0.420509</td>\n",
       "      <td>-0.335346</td>\n",
       "      <td>-0.520431</td>\n",
       "    </tr>\n",
       "    <tr>\n",
       "      <th>2017-09-01 00:27:53+00:00</th>\n",
       "      <td>-0.364151</td>\n",
       "      <td>-0.478899</td>\n",
       "      <td>-0.337302</td>\n",
       "      <td>0.237380</td>\n",
       "      <td>0.474226</td>\n",
       "      <td>-0.431809</td>\n",
       "      <td>0.325268</td>\n",
       "      <td>-0.411109</td>\n",
       "      <td>0.083633</td>\n",
       "      <td>-0.785864</td>\n",
       "      <td>0.56654</td>\n",
       "      <td>0.436888</td>\n",
       "      <td>0.143870</td>\n",
       "      <td>-0.420509</td>\n",
       "      <td>-0.335346</td>\n",
       "      <td>-0.520431</td>\n",
       "    </tr>\n",
       "    <tr>\n",
       "      <th>2017-09-01 00:28:16+00:00</th>\n",
       "      <td>0.277035</td>\n",
       "      <td>0.290254</td>\n",
       "      <td>-0.337302</td>\n",
       "      <td>-0.338128</td>\n",
       "      <td>-0.376126</td>\n",
       "      <td>-0.431809</td>\n",
       "      <td>0.325268</td>\n",
       "      <td>0.948551</td>\n",
       "      <td>0.083633</td>\n",
       "      <td>1.309410</td>\n",
       "      <td>-0.37935</td>\n",
       "      <td>-0.372405</td>\n",
       "      <td>-0.292097</td>\n",
       "      <td>-0.420509</td>\n",
       "      <td>-0.335346</td>\n",
       "      <td>-0.520431</td>\n",
       "    </tr>\n",
       "  </tbody>\n",
       "</table>\n",
       "</div>"
      ],
      "text/plain": [
       "                           log_ft_1  log_ft_2  log_ft_3  log_ft_4  log_ft_5  \\\n",
       "TimeDetected                                                                  \n",
       "2017-09-01 00:01:23+00:00  0.277035  1.828561  1.246640  0.237380  0.474226   \n",
       "2017-09-01 00:23:41+00:00  0.277035  0.290254 -0.337302 -0.338128 -0.376126   \n",
       "2017-09-01 00:23:42+00:00  0.277035  0.290254 -0.337302 -0.338128 -0.376126   \n",
       "2017-09-01 00:27:53+00:00 -0.364151 -0.478899 -0.337302  0.237380  0.474226   \n",
       "2017-09-01 00:28:16+00:00  0.277035  0.290254 -0.337302 -0.338128 -0.376126   \n",
       "\n",
       "                           log_ft_6  log_ft_7  log_ft_8  log_ft_9  log_ft_10  \\\n",
       "TimeDetected                                                                   \n",
       "2017-09-01 00:01:23+00:00  0.914547 -0.392982 -0.411109 -0.242768  -0.785864   \n",
       "2017-09-01 00:23:41+00:00 -0.431809  0.325268  0.948551  0.083633   1.309410   \n",
       "2017-09-01 00:23:42+00:00 -0.431809  0.325268  0.948551  0.083633   1.309410   \n",
       "2017-09-01 00:27:53+00:00 -0.431809  0.325268 -0.411109  0.083633  -0.785864   \n",
       "2017-09-01 00:28:16+00:00 -0.431809  0.325268  0.948551  0.083633   1.309410   \n",
       "\n",
       "                           log_ft_11  log_ft_12  log_ft_13  log_ft_14  \\\n",
       "TimeDetected                                                            \n",
       "2017-09-01 00:01:23+00:00   -0.37935  -0.372405  -0.292097  -0.420509   \n",
       "2017-09-01 00:23:41+00:00   -0.37935  -0.372405  -0.292097  -0.420509   \n",
       "2017-09-01 00:23:42+00:00   -0.37935  -0.372405  -0.292097  -0.420509   \n",
       "2017-09-01 00:27:53+00:00    0.56654   0.436888   0.143870  -0.420509   \n",
       "2017-09-01 00:28:16+00:00   -0.37935  -0.372405  -0.292097  -0.420509   \n",
       "\n",
       "                           log_ft_15  log_ft_16  \n",
       "TimeDetected                                     \n",
       "2017-09-01 00:01:23+00:00  -0.335346  -0.520431  \n",
       "2017-09-01 00:23:41+00:00  -0.335346  -0.520431  \n",
       "2017-09-01 00:23:42+00:00  -0.335346  -0.520431  \n",
       "2017-09-01 00:27:53+00:00  -0.335346  -0.520431  \n",
       "2017-09-01 00:28:16+00:00  -0.335346  -0.520431  "
      ]
     },
     "execution_count": 29,
     "metadata": {},
     "output_type": "execute_result"
    }
   ],
   "source": [
    "log_feats.head()"
   ]
  }
 ],
 "metadata": {
  "kernelspec": {
   "display_name": "MA",
   "language": "python",
   "name": "python3"
  },
  "language_info": {
   "codemirror_mode": {
    "name": "ipython",
    "version": 3
   },
   "file_extension": ".py",
   "mimetype": "text/x-python",
   "name": "python",
   "nbconvert_exporter": "python",
   "pygments_lexer": "ipython3",
   "version": "3.9.6"
  },
  "orig_nbformat": 4,
  "vscode": {
   "interpreter": {
    "hash": "df8970f4f85eb56af36e35f93c96a6b5ddb5593ae85a94542728cbcf8d415bd0"
   }
  }
 },
 "nbformat": 4,
 "nbformat_minor": 2
}
