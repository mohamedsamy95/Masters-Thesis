{
 "cells": [
  {
   "cell_type": "code",
   "execution_count": 24,
   "metadata": {},
   "outputs": [],
   "source": [
    "input = [3,5,2,8,11,5,7]\n",
    "target = 10"
   ]
  },
  {
   "cell_type": "code",
   "execution_count": 32,
   "metadata": {},
   "outputs": [
    {
     "data": {
      "text/plain": [
       "[[2, 8], [3, 7], [5, 5]]"
      ]
     },
     "execution_count": 32,
     "metadata": {},
     "output_type": "execute_result"
    }
   ],
   "source": [
    "output = []\n",
    "i = 0\n",
    "j = len(input) - 1\n",
    "\n",
    "storage = set()\n",
    "\n",
    "for element in input:\n",
    "    if element in storage:\n",
    "        output.append(sorted([element, target - element]))\n",
    "    else:\n",
    "        storage.add(target - element)\n",
    "\n",
    "# while i < j:\n",
    "#     if input[i] + input[j] < target:\n",
    "#         i+=1\n",
    "#     elif input[i] + input[j] > target:\n",
    "#         j-=1\n",
    "#     else:\n",
    "#         output.append([input[i], input[j]])\n",
    "#         i+=1\n",
    "#         j-=1\n",
    "\n",
    "\n",
    "# for i, number_1 in enumerate(input[:-1]):\n",
    "#     j = i+1\n",
    "#     while j < len(input):\n",
    "#         if number_1 + input[j] == target:\n",
    "#             output.append([number_1, input[j]])\n",
    "#         j+=1\n",
    "sorted(output)"
   ]
  },
  {
   "cell_type": "code",
   "execution_count": 33,
   "metadata": {},
   "outputs": [],
   "source": [
    "input = 'babad'\n",
    "\n",
    "# i = 0\n",
    "# j = len(input) - 1\n",
    "# output = []\n",
    "# while i < j:\n",
    "#     if input[i]"
   ]
  },
  {
   "cell_type": "code",
   "execution_count": 37,
   "metadata": {},
   "outputs": [
    {
     "name": "stdout",
     "output_type": "stream",
     "text": [
      "0 b\n",
      "1 a\n",
      "2 b\n",
      "3 a\n",
      "4 d\n"
     ]
    }
   ],
   "source": [
    "for i, c in enumerate(input):\n",
    "    print(i, c)"
   ]
  },
  {
   "cell_type": "code",
   "execution_count": 50,
   "metadata": {},
   "outputs": [
    {
     "data": {
      "text/plain": [
       "'ab'"
      ]
     },
     "execution_count": 50,
     "metadata": {},
     "output_type": "execute_result"
    }
   ],
   "source": [
    "''.join(['a', 'b'])"
   ]
  },
  {
   "cell_type": "code",
   "execution_count": 12,
   "metadata": {},
   "outputs": [
    {
     "data": {
      "text/plain": [
       "[4, -1, 2, 1, -5, 1000, 4]"
      ]
     },
     "execution_count": 12,
     "metadata": {},
     "output_type": "execute_result"
    }
   ],
   "source": [
    "input = [-2,1,-3,4,-1,2,1,-5, 1000,4]\n",
    "max_sum = float('-inf')\n",
    "start_index = -1\n",
    "end_index = -1\n",
    "for i in range(len(input)):\n",
    "    j = i + 1\n",
    "    temp_sum = input[i]\n",
    "    while j < len(input):\n",
    "        temp_sum+=input[j]\n",
    "        if temp_sum > max_sum:\n",
    "            max_sum = temp_sum\n",
    "            start_index = i\n",
    "            end_index = j\n",
    "        j+=1\n",
    "\n",
    "input[start_index: end_index+1]"
   ]
  },
  {
   "cell_type": "code",
   "execution_count": 44,
   "metadata": {},
   "outputs": [
    {
     "name": "stdout",
     "output_type": "stream",
     "text": [
      "-1\n"
     ]
    },
    {
     "data": {
      "text/plain": [
       "[-1]"
      ]
     },
     "execution_count": 44,
     "metadata": {},
     "output_type": "execute_result"
    }
   ],
   "source": [
    "input = [-2,1,-3,4,-1,2,1,-5, 1000,4]\n",
    "max_sum = float('-inf')\n",
    "temp_sum = 0\n",
    "\n",
    "start = end = current_start = current_end = 0\n",
    "\n",
    "for i, num in enumerate(input):\n",
    "    temp_sum+=num\n",
    "    current_end = i\n",
    "    if temp_sum > max_sum:\n",
    "        start = current_start\n",
    "        end = current_end\n",
    "        max_sum = temp_sum\n",
    "    if temp_sum < 0:\n",
    "        current_start = i+1\n",
    "        temp_sum = 0\n",
    "        \n",
    "    # max_sum = max(max_sum, temp_sum)\n",
    "    # temp_sum = max(temp_sum, 0)\n",
    "\n",
    "print(max_sum)\n",
    "input[start:end+1]\n"
   ]
  },
  {
   "cell_type": "code",
   "execution_count": 16,
   "metadata": {},
   "outputs": [
    {
     "data": {
      "text/plain": [
       "[3, 5]"
      ]
     },
     "execution_count": 16,
     "metadata": {},
     "output_type": "execute_result"
    }
   ],
   "source": [
    "input_1 = [1,3,4,5,7]\n",
    "input_2 = [2,3,5,6]\n",
    "\n",
    "output = []\n",
    "i = j = 0\n",
    "while i < len(input_1) and j < len(input_2):\n",
    "    if input_1[i] == input_2[j]:\n",
    "        output.append(input_1[i])\n",
    "        i+=1\n",
    "        j+=1\n",
    "    elif input_1[i] > input_2[j]:\n",
    "        j+=1\n",
    "    else:\n",
    "        i+=1\n",
    "output"
   ]
  },
  {
   "cell_type": "code",
   "execution_count": 33,
   "metadata": {},
   "outputs": [
    {
     "data": {
      "text/plain": [
       "'bhijklmnopqrs'"
      ]
     },
     "execution_count": 33,
     "metadata": {},
     "output_type": "execute_result"
    }
   ],
   "source": [
    "from collections import Counter\n",
    "input = 'abcabcdefgbbhijklmnopqrs'\n",
    "window = 1\n",
    "i = 0\n",
    "max_string = ''\n",
    "while i + window <= len(input):\n",
    "    substring = input[i: i + window]\n",
    "    if len(substring) == len(set(list(substring))) and len(substring) > len(max_string):\n",
    "        max_string = substring\n",
    "    if i + window == len(input):\n",
    "        i = -1\n",
    "        window+=1\n",
    "    i+=1\n",
    "\n",
    "max_string\n",
    "\n"
   ]
  },
  {
   "cell_type": "code",
   "execution_count": 27,
   "metadata": {},
   "outputs": [
    {
     "data": {
      "text/plain": [
       "1"
      ]
     },
     "execution_count": 27,
     "metadata": {},
     "output_type": "execute_result"
    }
   ],
   "source": [
    "len(set(list(input)))"
   ]
  },
  {
   "cell_type": "code",
   "execution_count": 93,
   "metadata": {},
   "outputs": [
    {
     "data": {
      "text/plain": [
       "'abcdefghijklmnopqrstuvwxyz'"
      ]
     },
     "execution_count": 93,
     "metadata": {},
     "output_type": "execute_result"
    }
   ],
   "source": [
    "import string\n",
    "string.ascii_lowercase\n",
    "\n",
    "str.strip()"
   ]
  },
  {
   "cell_type": "code",
   "execution_count": 90,
   "metadata": {},
   "outputs": [],
   "source": [
    "def partition(arr, l, r):\n",
    "    pointer = l\n",
    "    pivot = r\n",
    "\n",
    "    for i in range(l,r):\n",
    "        if arr[i] <= arr[pivot]:\n",
    "            arr[i], arr[pointer] = arr[pointer], arr[i]\n",
    "            pointer+=1\n",
    "    arr[pointer], arr[pivot] = arr[pivot], arr[pointer]\n",
    "\n",
    "    return pointer\n",
    "\n",
    "def findkthsmallest(arr, l, r, k):\n",
    "    if k > 0 and k <= r-l+1:\n",
    "        index = partition(arr, l, r)\n",
    "\n",
    "        if index == k-1:\n",
    "            return arr[index]\n",
    "        elif k-1 > index:\n",
    "            return findkthsmallest(arr, index+1, r, k)\n",
    "        else:\n",
    "            return findkthsmallest(arr, l, index-1, k)\n"
   ]
  },
  {
   "cell_type": "code",
   "execution_count": 47,
   "metadata": {},
   "outputs": [],
   "source": [
    "input = [5, 3, 9, 10, 11, -5, 0, 20]"
   ]
  },
  {
   "cell_type": "code",
   "execution_count": 89,
   "metadata": {},
   "outputs": [
    {
     "data": {
      "text/plain": [
       "0"
      ]
     },
     "execution_count": 89,
     "metadata": {},
     "output_type": "execute_result"
    }
   ],
   "source": [
    "\n",
    "findkthsmallest(input, 0, len(input) - 1, 7)"
   ]
  },
  {
   "cell_type": "code",
   "execution_count": 58,
   "metadata": {},
   "outputs": [
    {
     "data": {
      "text/plain": [
       "[-5, 0, 3, 5, 9, 10, 11, 20]"
      ]
     },
     "execution_count": 58,
     "metadata": {},
     "output_type": "execute_result"
    }
   ],
   "source": [
    "sorted(input)"
   ]
  }
 ],
 "metadata": {
  "kernelspec": {
   "display_name": "base",
   "language": "python",
   "name": "python3"
  },
  "language_info": {
   "codemirror_mode": {
    "name": "ipython",
    "version": 3
   },
   "file_extension": ".py",
   "mimetype": "text/x-python",
   "name": "python",
   "nbconvert_exporter": "python",
   "pygments_lexer": "ipython3",
   "version": "3.9.12"
  },
  "orig_nbformat": 4
 },
 "nbformat": 4,
 "nbformat_minor": 2
}
