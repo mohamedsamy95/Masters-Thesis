{
 "cells": [
  {
   "id": "asdf",
   "cell_type": "code",
   "execution_count": null,
   "metadata": {
    "collapsed": "BAD: should be bool",
    "scrolled": "BAD: should be bool",
    "deletable": "BAD: should be bool",
    "editable": "BAD: should be bool",
    "format": "BAD: should be bool",
    "name": 12345,
    "tags": "BAD: should be list of str",
    "jupyter": "BAD: should be dict",
    "execution": "BAD: should be dict"
   },
   "outputs": [
    {
     "data": {
      "text/plain": [
       "'bar'"
      ]
     },
     "execution_count": 1,
     "metadata": {
      "isolated": "BAD: should be bool"
     },
     "output_type": "execute_result"
    }
   ],
   "source": [
    "\"foo\""
   ]
  },
  {
   "id": "jlkj",
   "cell_type": "code",
   "execution_count": null,
   "metadata": {
    "jupyter": {
     "source_hidden": "BAD: should be dict",
     "outputs_hidden": "BAD: should be dict"
    },
    "execution": {
     "iopub.execute_input": "BAD: should be ISO 8601 format",
     "iopub.status.busy": "BAD: should be ISO 8601 format",
     "shell.execute_reply": "BAD: should be ISO 8601 format",
     "iopub.status.idle": "BAD: should be ISO 8601 format"
    }
   },
   "outputs": [],
   "source": [
    "\"foo 2\""
   ]
  }
 ],
 "metadata": {
  "kernelspec": "BAD: should be a dict",
  "authors": "BAD: should be a list of dicts"
 },
 "nbformat": 4,
 "nbformat_minor": 5
}
